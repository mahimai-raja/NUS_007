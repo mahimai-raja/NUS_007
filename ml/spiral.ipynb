{
 "cells": [
  {
   "cell_type": "code",
   "execution_count": 34,
   "metadata": {},
   "outputs": [],
   "source": [
    "import numpy as np\n",
    "from sklearn.model_selection import train_test_split\n",
    "from sklearn.preprocessing import StandardScaler\n",
    "from sklearn.linear_model import LogisticRegression\n",
    "from sklearn.neighbors import KNeighborsClassifier\n",
    "from sklearn.tree import DecisionTreeClassifier\n",
    "from sklearn.svm import LinearSVC, SVC\n",
    "from sklearn.neural_network import MLPClassifier\n",
    "from sklearn.ensemble import RandomForestClassifier, GradientBoostingClassifier\n",
    "from sklearn.ensemble import BaggingClassifier\n",
    "import os\n",
    "import imutils.paths\n",
    "import skimage\n",
    "from skimage import feature\n",
    "import cv2\n",
    "from sklearn import preprocessing"
   ]
  },
  {
   "cell_type": "code",
   "execution_count": 32,
   "metadata": {},
   "outputs": [],
   "source": [
    "def quantify_image(image):\n",
    "    features = feature.hog(image, orientations=9,\n",
    "                           pixels_per_cell=(10, 10), cells_per_block=(2, 2),\n",
    "                           transform_sqrt=True, block_norm=\"L1\")\n",
    "    return features"
   ]
  },
  {
   "cell_type": "code",
   "execution_count": 31,
   "metadata": {},
   "outputs": [],
   "source": [
    "def load_split(path):\n",
    "    # grab the list of images in the input directory, then initialize\n",
    "    # the list of data (i.e., images) and class labels\n",
    "    imagePaths = list(imutils.paths.list_images(path))\n",
    "    data = []\n",
    "    labels = []\n",
    "    # loop over the image paths\n",
    "    for imagePath in imagePaths:\n",
    "        # extract the class label from the filename\n",
    "        label = imagePath.split(os.path.sep)[-2]\n",
    "        # quantify the image\n",
    "        image = cv2.imread(imagePath)\n",
    "        features = quantify_image(image)\n",
    "        # update the data and labels lists, respectively\n",
    "        data.append(features)\n",
    "        labels.append(label)\n",
    "    return (np.array(data), np.array(labels))"
   ]
  },
  {
   "cell_type": "code",
   "execution_count": 36,
   "metadata": {},
   "outputs": [],
   "source": [
    "path =\"spiral_processed\"\n",
    "trainingPath = os.path.sep.join([path, \"train\"])\n",
    "testingPath = os.path.sep.join([path, \"test\"])\n",
    "# load the data\n",
    "(trainX, trainY) = load_split(trainingPath)\n",
    "(testX, testY) = load_split(testingPath)\n",
    "# encode the labels\n",
    "le = preprocessing.LabelEncoder()\n",
    "trainY = le.fit_transform(trainY)\n",
    "testY = le.transform(testY)"
   ]
  },
  {
   "cell_type": "code",
   "execution_count": null,
   "metadata": {},
   "outputs": [],
   "source": [
    "# models = {\n",
    "#     '           Linear SVM': LinearSVC(),\n",
    "#     '    Gradient Boosting': GradientBoostingClassifier(),\n",
    "#     '        Decision Tree': DecisionTreeClassifier(),\n",
    "#     '        Random Forest': RandomForestClassifier(),\n",
    "#     ' KNeighborsClassifier': KNeighborsClassifier(),\n",
    "#     '   Bagging Classifier': BaggingClassifier()\n",
    "# }\n",
    "\n",
    "# for name, model in models.items():\n",
    "model=LinearSVC()\n",
    "model = model.fit(trainX, trainY)\n"
   ]
  },
  {
   "cell_type": "code",
   "execution_count": 41,
   "metadata": {},
   "outputs": [
    {
     "name": "stdout",
     "output_type": "stream",
     "text": [
      ": 97.50%\n",
      ": 100.00%\n"
     ]
    }
   ],
   "source": [
    "print(\": {:.2f}%\".format(model.score(testX, testY) * 100))\n",
    "print(\": {:.2f}%\".format(model.score(trainX, trainY) * 100))"
   ]
  },
  {
   "cell_type": "code",
   "execution_count": 42,
   "metadata": {},
   "outputs": [
    {
     "name": "stdout",
     "output_type": "stream",
     "text": [
      "Testing: 93.00%\n",
      "Training: 99.90%\n"
     ]
    }
   ],
   "source": [
    "model=GradientBoostingClassifier()\n",
    "model = model.fit(trainX, trainY)\n",
    "print(\"Testing: {:.2f}%\".format(model.score(testX, testY) * 100))\n",
    "print(\"Training: {:.2f}%\".format(model.score(trainX, trainY) * 100))"
   ]
  },
  {
   "cell_type": "code",
   "execution_count": 43,
   "metadata": {},
   "outputs": [
    {
     "name": "stdout",
     "output_type": "stream",
     "text": [
      "Testing: 80.90%\n",
      "Training: 100.00%\n"
     ]
    }
   ],
   "source": [
    "model=DecisionTreeClassifier()\n",
    "model = model.fit(trainX, trainY)\n",
    "print(\"Testing: {:.2f}%\".format(model.score(testX, testY) * 100))\n",
    "print(\"Training: {:.2f}%\".format(model.score(trainX, trainY) * 100))"
   ]
  },
  {
   "cell_type": "code",
   "execution_count": 44,
   "metadata": {},
   "outputs": [
    {
     "name": "stdout",
     "output_type": "stream",
     "text": [
      "Testing: 94.70%\n",
      "Training: 100.00%\n"
     ]
    }
   ],
   "source": [
    "model=RandomForestClassifier()\n",
    "model = model.fit(trainX, trainY)\n",
    "print(\"Testing: {:.2f}%\".format(model.score(testX, testY) * 100))\n",
    "print(\"Training: {:.2f}%\".format(model.score(trainX, trainY) * 100))"
   ]
  },
  {
   "cell_type": "code",
   "execution_count": 45,
   "metadata": {},
   "outputs": [
    {
     "name": "stdout",
     "output_type": "stream",
     "text": [
      "Testing: 97.70%\n",
      "Training: 98.65%\n"
     ]
    }
   ],
   "source": [
    "model=KNeighborsClassifier()\n",
    "model = model.fit(trainX, trainY)\n",
    "print(\"Testing: {:.2f}%\".format(model.score(testX, testY) * 100))\n",
    "print(\"Training: {:.2f}%\".format(model.score(trainX, trainY) * 100))"
   ]
  },
  {
   "cell_type": "code",
   "execution_count": 46,
   "metadata": {},
   "outputs": [
    {
     "name": "stdout",
     "output_type": "stream",
     "text": [
      "Testing: 91.10%\n",
      "Training: 99.75%\n"
     ]
    }
   ],
   "source": [
    "model=BaggingClassifier()\n",
    "model = model.fit(trainX, trainY)\n",
    "print(\"Testing: {:.2f}%\".format(model.score(testX, testY) * 100))\n",
    "print(\"Training: {:.2f}%\".format(model.score(trainX, trainY) * 100))"
   ]
  }
 ],
 "metadata": {
  "kernelspec": {
   "display_name": "Python 3",
   "language": "python",
   "name": "python3"
  },
  "language_info": {
   "codemirror_mode": {
    "name": "ipython",
    "version": 3
   },
   "file_extension": ".py",
   "mimetype": "text/x-python",
   "name": "python",
   "nbconvert_exporter": "python",
   "pygments_lexer": "ipython3",
   "version": "3.8.5"
  }
 },
 "nbformat": 4,
 "nbformat_minor": 4
}
